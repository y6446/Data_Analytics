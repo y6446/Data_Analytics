{
  "nbformat": 4,
  "nbformat_minor": 0,
  "metadata": {
    "colab": {
      "provenance": []
    },
    "kernelspec": {
      "name": "python3",
      "display_name": "Python 3"
    },
    "language_info": {
      "name": "python"
    }
  },
  "cells": [
    {
      "cell_type": "code",
      "execution_count": null,
      "metadata": {
        "id": "bjVTgZoV7yQ6"
      },
      "outputs": [],
      "source": [
        "import pandas as pd\n",
        "import numpy as np\n",
        "import matplotlib.pyplot as plt\n",
        "import seaborn as sns\n",
        "from sklearn.model_selection import train_test_split\n"
      ]
    },
    {
      "cell_type": "code",
      "source": [
        "january = pd.read_csv(\"January.csv\")\n",
        "february = pd.read_csv(\"February.csv\")\n",
        "march = pd.read_csv(\"March.csv\")\n",
        "april = pd.read_csv(\"April.csv\")\n",
        "may = pd.read_csv(\"May.csv\")\n",
        "june = pd.read_csv(\"June.csv\")\n",
        "july = pd.read_csv(\"July.csv\")\n",
        "august = pd.read_csv(\"August.csv\")\n",
        "september = pd.read_csv(\"September.csv\")\n",
        "october = pd.read_csv(\"October.csv\")\n",
        "november = pd.read_csv(\"November.csv\")\n",
        "december = pd.read_csv(\"December.csv\")"
      ],
      "metadata": {
        "id": "VzSNAmZ6FrLs"
      },
      "execution_count": null,
      "outputs": []
    },
    {
      "cell_type": "code",
      "source": [
        "# Create a list of DataFrames\n",
        "dataframes = [\n",
        "    january,\n",
        "    february,\n",
        "    march,\n",
        "    april,\n",
        "    may,\n",
        "    june,\n",
        "    july,\n",
        "    august,\n",
        "    september,\n",
        "    october,\n",
        "    november,\n",
        "    december\n",
        "]\n",
        "\n",
        "# Concatenate the DataFrames\n",
        "data = pd.concat(dataframes)\n"
      ],
      "metadata": {
        "id": "QNZhnaGTIdtf"
      },
      "execution_count": null,
      "outputs": []
    },
    {
      "cell_type": "code",
      "source": [
        "hours = data[['started_at', 'ended_at']]"
      ],
      "metadata": {
        "id": "O0wuatppZK59"
      },
      "execution_count": null,
      "outputs": []
    },
    {
      "cell_type": "code",
      "source": [
        "# Extract hours from started_at and ended_at\n",
        "hours['started_at'] = hours['started_at'].str.split().str[1].str[:2].astype(int)\n",
        "hours['ended_at'] = hours['ended_at'].str.split().str[1].str[:2].astype(int)\n",
        "\n",
        "# Calculate duration (assuming ended_at is always later than started_at)\n",
        "hours['duration_in_hours'] = hours['ended_at'] - hours['started_at']"
      ],
      "metadata": {
        "colab": {
          "base_uri": "https://localhost:8080/"
        },
        "id": "YbAFRcbYmsVp",
        "outputId": "72bb701c-d7cf-474b-dc2a-e1a42611c22c"
      },
      "execution_count": null,
      "outputs": [
        {
          "output_type": "stream",
          "name": "stderr",
          "text": [
            "<ipython-input-6-2e236a2b24f9>:2: SettingWithCopyWarning: \n",
            "A value is trying to be set on a copy of a slice from a DataFrame.\n",
            "Try using .loc[row_indexer,col_indexer] = value instead\n",
            "\n",
            "See the caveats in the documentation: https://pandas.pydata.org/pandas-docs/stable/user_guide/indexing.html#returning-a-view-versus-a-copy\n",
            "  hours['started_at'] = hours['started_at'].str.split().str[1].str[:2].astype(int)\n",
            "<ipython-input-6-2e236a2b24f9>:3: SettingWithCopyWarning: \n",
            "A value is trying to be set on a copy of a slice from a DataFrame.\n",
            "Try using .loc[row_indexer,col_indexer] = value instead\n",
            "\n",
            "See the caveats in the documentation: https://pandas.pydata.org/pandas-docs/stable/user_guide/indexing.html#returning-a-view-versus-a-copy\n",
            "  hours['ended_at'] = hours['ended_at'].str.split().str[1].str[:2].astype(int)\n",
            "<ipython-input-6-2e236a2b24f9>:6: SettingWithCopyWarning: \n",
            "A value is trying to be set on a copy of a slice from a DataFrame.\n",
            "Try using .loc[row_indexer,col_indexer] = value instead\n",
            "\n",
            "See the caveats in the documentation: https://pandas.pydata.org/pandas-docs/stable/user_guide/indexing.html#returning-a-view-versus-a-copy\n",
            "  hours['duration_in_hours'] = hours['ended_at'] - hours['started_at']\n"
          ]
        }
      ]
    },
    {
      "cell_type": "code",
      "source": [
        "data.dropna(inplace = True)\n",
        "\n"
      ],
      "metadata": {
        "id": "dZuVSrgwv0-d"
      },
      "execution_count": null,
      "outputs": []
    },
    {
      "cell_type": "code",
      "source": [
        "# prompt: I want to get the peak hour by using hours['started_at'], and how many time it occurs\n",
        "\n",
        "peak_hour = hours['started_at'].idxmax()\n",
        "peak_hour_count = hours['started_at'].max()\n",
        "\n",
        "print(f\"The peak hour is {peak_hour} and it occurs {peak_hour_count} times.\")\n"
      ],
      "metadata": {
        "colab": {
          "base_uri": "https://localhost:8080/"
        },
        "id": "_jh4w-MC34IP",
        "outputId": "6621df34-8e42-4841-f441-eb8b55a4a1ac"
      },
      "execution_count": null,
      "outputs": [
        {
          "output_type": "stream",
          "name": "stdout",
          "text": [
            "The peak hour is 192 and it occurs 23 times.\n"
          ]
        }
      ]
    },
    {
      "cell_type": "code",
      "source": [
        "# prompt: add details to the graph and make it more presentable\n",
        "\n",
        "# Create the bar chart\n",
        "plt.figure(figsize=(12, 6))\n",
        "sns.barplot(x=hours['started_at'].value_counts().index, y=hours['started_at'].value_counts().values)\n",
        "\n",
        "# Add details to the graph\n",
        "plt.xlabel(\"Hour of the Day\", fontsize=14)\n",
        "plt.ylabel(\"Number of Deliveries\", fontsize=14)\n",
        "plt.title(\"Peak Delivery Hour in the Dataset\", fontsize=16)\n",
        "\n",
        "# Add grid lines\n",
        "plt.grid(True)\n",
        "\n",
        "# Show the plot\n",
        "plt.show()\n",
        "plt.savefig('plot.png')\n"
      ],
      "metadata": {
        "colab": {
          "base_uri": "https://localhost:8080/",
          "height": 521
        },
        "id": "hqVZdC0n4vQp",
        "outputId": "33ae087b-d3ff-43dc-c3ef-7199a3a6d466"
      },
      "execution_count": null,
      "outputs": [
        {
          "output_type": "display_data",
          "data": {
            "text/plain": [
              "<Figure size 1200x600 with 1 Axes>"
            ],
            "image/png": "[encoded data removed]"
          },
          "metadata": {}
        },
        {
          "output_type": "display_data",
          "data": {
            "text/plain": [
              "<Figure size 640x480 with 0 Axes>"
            ]
          },
          "metadata": {}
        }
      ]
    },
    {
      "cell_type": "code",
      "source": [
        "from datetime import datetime\n"
      ],
      "metadata": {
        "id": "UJjD7zB255Jg"
      },
      "execution_count": null,
      "outputs": []
    },
    {
      "cell_type": "code",
      "source": [
        "# prompt: hours['started_at'].value_counts() I want to know what is the most frequent value in it, and how many of them there are\n",
        "\n",
        "most_frequent_hour = hours['started_at'].value_counts().idxmax()\n",
        "most_frequent_count = hours['started_at'].value_counts().max()\n",
        "\n",
        "if most_frequent_hour > 12:\n",
        "  most_frequent_hour_12 = most_frequent_hour - 12\n",
        "  time_of_day = \" PM\"\n",
        "else:\n",
        "  most_frequent_hour_12 = most_frequent_hour\n",
        "  time_of_day = \" AM\"\n",
        "\n",
        "most_frequent_hour_12 = f\"{most_frequent_hour_12}{time_of_day}\"\n",
        "\n",
        "print(f\"The most frequent hour is {most_frequent_hour_12} and it occurs {most_frequent_count} times.\")\n"
      ],
      "metadata": {
        "colab": {
          "base_uri": "https://localhost:8080/"
        },
        "id": "yXIin2lN5ObZ",
        "outputId": "5a12dddd-5dd4-4ba8-d4ba-dd6066ea7c8c"
      },
      "execution_count": null,
      "outputs": [
        {
          "output_type": "stream",
          "name": "stdout",
          "text": [
            "The most frequent hour is 5 PM and it occurs 594163 times.\n"
          ]
        }
      ]
    },
    {
      "cell_type": "code",
      "source": [
        "# prompt: I have data frame named (\"data\") that has the columns [\"start_station_name\",  \"start_station_id\", \"end_station_name\", \"end_station_id\"] how can I get the most frequent station?\n",
        "\n",
        "most_frequent_station = data['start_station_name'].value_counts().idxmax()\n",
        "most_frequent_station_count = data['start_station_name'].value_counts().max()\n",
        "\n",
        "print(f\"The most frequent station is {most_frequent_station} and it occurs {most_frequent_station_count} times.\")\n"
      ],
      "metadata": {
        "colab": {
          "base_uri": "https://localhost:8080/"
        },
        "id": "Gc2rSaE-79XH",
        "outputId": "1d728559-b0bd-4fe6-cbc5-383b3114bf0d"
      },
      "execution_count": null,
      "outputs": [
        {
          "output_type": "stream",
          "name": "stdout",
          "text": [
            "The most frequent station is Streeter Dr & Grand Ave and it occurs 69097 times.\n"
          ]
        }
      ]
    },
    {
      "cell_type": "code",
      "source": [
        "# prompt: I have this (plt) plot graph could you put it instead of the plot that you has and put all the details and outputs in a nice html page with all of the values\n",
        "\n",
        "\n",
        "# Create the HTML page\n",
        "html_string = \"\"\"\n",
        "<!DOCTYPE html>\n",
        "<html>\n",
        "<head>\n",
        "  <title>Peak Delivery Hour Analysis</title>\n",
        "</head>\n",
        "<body>\n",
        "  <h1>Peak Delivery Hour Analysis</h1>\n",
        "\n",
        "  <p><b>Most Frequent Hour:</b> {}</p>\n",
        "  <p><b>Most Frequent Hour Count:</b> {}</p>\n",
        "\n",
        "  <p><b>Most Frequent Station:</b> {}</p>\n",
        "  <p><b>Most Frequent Station Count:</b> {}</p>\n",
        "\n",
        "  <img src=\"plot.png\" alt=\"Peak Hour Bar Chart\">\n",
        "\n",
        "</body>\n",
        "</html>\n",
        "\"\"\".format( most_frequent_hour_12, most_frequent_count, most_frequent_station, most_frequent_station_count)\n",
        "\n",
        "# Save the HTML page to a file\n",
        "with open(\"peak_hour_analysis.html\", \"w\") as f:\n",
        "  f.write(html_string)\n",
        "\n",
        "# Display the HTML page\n",
        "from IPython.display import HTML\n",
        "HTML(\"peak_hour_analysis.html\")\n",
        "\n"
      ],
      "metadata": {
        "colab": {
          "resources": {
            "http://localhost:8080/plot.png": {
              "data": "CjwhRE9DVFlQRSBodG1sPgo8aHRtbCBsYW5nPWVuPgogIDxtZXRhIGNoYXJzZXQ9dXRmLTg+CiAgPG1ldGEgbmFtZT12aWV3cG9ydCBjb250ZW50PSJpbml0aWFsLXNjYWxlPTEsIG1pbmltdW0tc2NhbGU9MSwgd2lkdGg9ZGV2aWNlLXdpZHRoIj4KICA8dGl0bGU+RXJyb3IgNDA0IChOb3QgRm91bmQpISExPC90aXRsZT4KICA8c3R5bGU+CiAgICAqe21hcmdpbjowO3BhZGRpbmc6MH1odG1sLGNvZGV7Zm9udDoxNXB4LzIycHggYXJpYWwsc2Fucy1zZXJpZn1odG1se2JhY2tncm91bmQ6I2ZmZjtjb2xvcjojMjIyO3BhZGRpbmc6MTVweH1ib2R5e21hcmdpbjo3JSBhdXRvIDA7bWF4LXdpZHRoOjM5MHB4O21pbi1oZWlnaHQ6MTgwcHg7cGFkZGluZzozMHB4IDAgMTVweH0qID4gYm9keXtiYWNrZ3JvdW5kOnVybCgvL3d3dy5nb29nbGUuY29tL2ltYWdlcy9lcnJvcnMvcm9ib3QucG5nKSAxMDAlIDVweCBuby1yZXBlYXQ7cGFkZGluZy1yaWdodDoyMDVweH1we21hcmdpbjoxMXB4IDAgMjJweDtvdmVyZmxvdzpoaWRkZW59aW5ze2NvbG9yOiM3Nzc7dGV4dC1kZWNvcmF0aW9uOm5vbmV9YSBpbWd7Ym9yZGVyOjB9QG1lZGlhIHNjcmVlbiBhbmQgKG1heC13aWR0aDo3NzJweCl7Ym9keXtiYWNrZ3JvdW5kOm5vbmU7bWFyZ2luLXRvcDowO21heC13aWR0aDpub25lO3BhZGRpbmctcmlnaHQ6MH19I2xvZ297YmFja2dyb3VuZDp1cmwoLy93d3cuZ29vZ2xlLmNvbS9pbWFnZXMvbG9nb3MvZXJyb3JwYWdlL2Vycm9yX2xvZ28tMTUweDU0LnBuZykgbm8tcmVwZWF0O21hcmdpbi1sZWZ0Oi01cHh9QG1lZGlhIG9ubHkgc2NyZWVuIGFuZCAobWluLXJlc29sdXRpb246MTkyZHBpKXsjbG9nb3tiYWNrZ3JvdW5kOnVybCgvL3d3dy5nb29nbGUuY29tL2ltYWdlcy9sb2dvcy9lcnJvcnBhZ2UvZXJyb3JfbG9nby0xNTB4NTQtMngucG5nKSBuby1yZXBlYXQgMCUgMCUvMTAwJSAxMDAlOy1tb3otYm9yZGVyLWltYWdlOnVybCgvL3d3dy5nb29nbGUuY29tL2ltYWdlcy9sb2dvcy9lcnJvcnBhZ2UvZXJyb3JfbG9nby0xNTB4NTQtMngucG5nKSAwfX1AbWVkaWEgb25seSBzY3JlZW4gYW5kICgtd2Via2l0LW1pbi1kZXZpY2UtcGl4ZWwtcmF0aW86Mil7I2xvZ297YmFja2dyb3VuZDp1cmwoLy93d3cuZ29vZ2xlLmNvbS9pbWFnZXMvbG9nb3MvZXJyb3JwYWdlL2Vycm9yX2xvZ28tMTUweDU0LTJ4LnBuZykgbm8tcmVwZWF0Oy13ZWJraXQtYmFja2dyb3VuZC1zaXplOjEwMCUgMTAwJX19I2xvZ297ZGlzcGxheTppbmxpbmUtYmxvY2s7aGVpZ2h0OjU0cHg7d2lkdGg6MTUwcHh9CiAgPC9zdHlsZT4KICA8YSBocmVmPS8vd3d3Lmdvb2dsZS5jb20vPjxzcGFuIGlkPWxvZ28gYXJpYS1sYWJlbD1Hb29nbGU+PC9zcGFuPjwvYT4KICA8cD48Yj40MDQuPC9iPiA8aW5zPlRoYXTigJlzIGFuIGVycm9yLjwvaW5zPgogIDxwPiAgPGlucz5UaGF04oCZcyBhbGwgd2Uga25vdy48L2lucz4K",
              "ok": false,
              "headers": [
                [
                  "content-length",
                  "1449"
                ],
                [
                  "content-type",
                  "text/html; charset=utf-8"
                ]
              ],
              "status": 404,
              "status_text": ""
            }
          },
          "base_uri": "https://localhost:8080/",
          "height": 192
        },
        "id": "d9iaXojl-L83",
        "outputId": "3da443ba-29e0-4afe-c20a-87097711272a"
      },
      "execution_count": null,
      "outputs": [
        {
          "output_type": "execute_result",
          "data": {
            "text/plain": [
              "<IPython.core.display.HTML object>"
            ],
            "text/html": [
              "\n",
              "<!DOCTYPE html>\n",
              "<html>\n",
              "<head>\n",
              "  <title>Peak Delivery Hour Analysis</title>\n",
              "</head>\n",
              "<body>\n",
              "  <h1>Peak Delivery Hour Analysis</h1>\n",
              "\n",
              "  <p><b>Most Frequent Hour:</b> 5 PM</p>\n",
              "  <p><b>Most Frequent Hour Count:</b> 594163</p>\n",
              "\n",
              "  <p><b>Most Frequent Station:</b> Streeter Dr & Grand Ave</p>\n",
              "  <p><b>Most Frequent Station Count:</b> 69097</p>\n",
              "\n",
              "  <img src=\"plot.png\" alt=\"Peak Hour Bar Chart\">\n",
              "\n",
              "</body>\n",
              "</html>\n"
            ]
          },
          "metadata": {},
          "execution_count": 23
        }
      ]
    }
  ]
}